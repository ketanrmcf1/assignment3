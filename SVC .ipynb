{
 "cells": [
  {
   "cell_type": "code",
   "execution_count": 127,
   "metadata": {},
   "outputs": [],
   "source": [
    "import pandas as pd\n",
    "import numpy as np\n",
    "from sklearn import svm\n",
    "from sklearn.cross_validation import train_test_split\n",
    "from sklearn.metrics import accuracy_score\n",
    "from sklearn import preprocessing\n",
    "import matplotlib.pyplot as plt\n",
    "from sklearn.model_selection import cross_val_score\n",
    "from sklearn.metrics import roc_curve, auc\n",
    "from sklearn.metrics import classification_report, confusion_matrix\n",
    "from sklearn.svm import SVC \n",
    "from sklearn.grid_search import GridSearchCV"
   ]
  },
  {
   "cell_type": "code",
   "execution_count": 128,
   "metadata": {
    "collapsed": true
   },
   "outputs": [],
   "source": [
    "df=pd.read_csv(\"sonar.all-data\",header=None)\n",
    "df.head()\n",
    "label_encoder = preprocessing.LabelEncoder()"
   ]
  },
  {
   "cell_type": "code",
   "execution_count": 129,
   "metadata": {
    "collapsed": true
   },
   "outputs": [],
   "source": [
    "#df=df.sample(frac=1,random_state=15)\n",
    "X=df.drop(60,axis=1)\n",
    "df[60]= label_encoder.fit_transform(df[60])\n",
    "y=df[60]\n",
    "\n",
    "X_train, X_test, y_train, y_test = train_test_split( X, y, test_size = 0.3)"
   ]
  },
  {
   "cell_type": "code",
   "execution_count": 133,
   "metadata": {},
   "outputs": [
    {
     "name": "stdout",
     "output_type": "stream",
     "text": [
      "0.7655172413793103\n",
      "Best C: 1\n",
      "Best Kernel: linear\n",
      "Best Gamma: auto\n",
      "Confusion Matrix \n",
      "[[24  8]\n",
      " [ 8 23]]\n",
      "\n",
      "\n",
      "Classification Report \n",
      "             precision    recall  f1-score   support\n",
      "\n",
      "          0       0.75      0.75      0.75        32\n",
      "          1       0.74      0.74      0.74        31\n",
      "\n",
      "avg / total       0.75      0.75      0.75        63\n",
      "\n",
      "\n",
      "\n",
      "Test accuracy: 0.746031746032\n",
      "Train accuracy: 0.862068965517\n"
     ]
    }
   ],
   "source": [
    "model=SVC()\n",
    "parameter_candidates = [\n",
    "  {'C': [0.1,1,3,5,7], 'kernel': ['linear']},\n",
    "  {'C': [0.1,1,3,5,7], 'gamma': [0.01, 0.001], 'kernel': ['rbf']},\n",
    "]\n",
    "\n",
    "# Create a classifier object with the classifier and parameter candidates\n",
    "clf = GridSearchCV(estimator=model, param_grid=parameter_candidates,cv=8, n_jobs=-1)\n",
    "\n",
    "# Train the classifier on data1's feature and target data\n",
    "clf.fit(X_train,y_train)\n",
    "y_pred=clf.predict(X_test)\n",
    "y_pred_en=clf.predict(X_train)\n",
    "print(clf.best_score_)\n",
    "\n",
    "# View the best parameters for the model found using grid search\n",
    "print('Best C:',clf.best_estimator_.C) \n",
    "print('Best Kernel:',clf.best_estimator_.kernel)\n",
    "print('Best Gamma:',clf.best_estimator_.gamma)\n",
    "\n",
    "\n",
    "print(\"Confusion Matrix \")\n",
    "print(confusion_matrix(y_test, y_pred))\n",
    "print('\\n')\n",
    "\n",
    "print(\"Classification Report \")\n",
    "print(classification_report(y_test, y_pred))\n",
    "print('\\n')\n",
    "\n",
    "print(\"Test accuracy:\", accuracy_score(y_test,y_pred))\n",
    "print(\"Train accuracy:\", accuracy_score(y_train,y_pred_en))\n"
   ]
  },
  {
   "cell_type": "code",
   "execution_count": 134,
   "metadata": {},
   "outputs": [
    {
     "name": "stdout",
     "output_type": "stream",
     "text": [
      "1. Confusion Matrix \n",
      "[[24  8]\n",
      " [ 8 23]]\n",
      "\n",
      "\n",
      "2. Classification Report \n",
      "             precision    recall  f1-score   support\n",
      "\n",
      "          0       0.75      0.75      0.75        32\n",
      "          1       0.74      0.74      0.74        31\n",
      "\n",
      "avg / total       0.75      0.75      0.75        63\n",
      "\n",
      "\n",
      "\n"
     ]
    }
   ],
   "source": [
    "print(\"1. Confusion Matrix \")\n",
    "print(confusion_matrix(y_test, y_pred))\n",
    "print('\\n')\n",
    "\n",
    "print(\"2. Classification Report \")\n",
    "print(classification_report(y_test, y_pred))\n",
    "print('\\n')"
   ]
  },
  {
   "cell_type": "code",
   "execution_count": null,
   "metadata": {
    "collapsed": true
   },
   "outputs": [],
   "source": [
    "''"
   ]
  }
 ],
 "metadata": {
  "kernelspec": {
   "display_name": "Python 3",
   "language": "python",
   "name": "python3"
  },
  "language_info": {
   "codemirror_mode": {
    "name": "ipython",
    "version": 3
   },
   "file_extension": ".py",
   "mimetype": "text/x-python",
   "name": "python",
   "nbconvert_exporter": "python",
   "pygments_lexer": "ipython3",
   "version": "3.6.3"
  }
 },
 "nbformat": 4,
 "nbformat_minor": 2
}
