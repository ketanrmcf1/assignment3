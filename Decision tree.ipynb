{
 "cells": [
  {
   "cell_type": "code",
   "execution_count": 139,
   "metadata": {},
   "outputs": [],
   "source": [
    "import pandas as pd\n",
    "import numpy as np\n",
    "from sklearn.cross_validation import train_test_split\n",
    "from sklearn.tree import DecisionTreeClassifier\n",
    "from sklearn.metrics import accuracy_score\n",
    "from sklearn import preprocessing\n",
    "from sklearn.model_selection import cross_val_score\n",
    "from sklearn.metrics import roc_curve, auc\n",
    "from sklearn.metrics import classification_report, confusion_matrix"
   ]
  },
  {
   "cell_type": "code",
   "execution_count": 140,
   "metadata": {},
   "outputs": [],
   "source": [
    "df=pd.read_csv(\"sonar.all-data\",header=None)\n",
    "df.head()\n",
    "label_encoder = preprocessing.LabelEncoder()"
   ]
  },
  {
   "cell_type": "code",
   "execution_count": 141,
   "metadata": {},
   "outputs": [],
   "source": [
    "df=df.sample(frac=1,random_state=13)\n",
    "X=df.drop(60,axis=1)\n",
    "df[60]= label_encoder.fit_transform(df[60])\n",
    "y=df[60]\n",
    "\n",
    "X_train, X_test, y_train, y_test = train_test_split( X, y, test_size = 0.3, random_state = 20)"
   ]
  },
  {
   "cell_type": "code",
   "execution_count": 142,
   "metadata": {},
   "outputs": [
    {
     "data": {
      "text/plain": [
       "DecisionTreeClassifier(class_weight=None, criterion='entropy', max_depth=3,\n",
       "            max_features=None, max_leaf_nodes=None,\n",
       "            min_impurity_decrease=0.0, min_impurity_split=None,\n",
       "            min_samples_leaf=3, min_samples_split=2,\n",
       "            min_weight_fraction_leaf=0.0, presort=False, random_state=5,\n",
       "            splitter='best')"
      ]
     },
     "execution_count": 142,
     "metadata": {},
     "output_type": "execute_result"
    }
   ],
   "source": [
    "clf_gini = DecisionTreeClassifier(criterion = \"gini\", random_state = 5,max_depth=3, min_samples_leaf=3)\n",
    "clf_gini.fit(X_train, y_train)\n",
    "clf_entropy = DecisionTreeClassifier(criterion = \"entropy\", random_state = 5, max_depth=3, min_samples_leaf=3)\n",
    "clf_entropy.fit(X_train, y_train)"
   ]
  },
  {
   "cell_type": "code",
   "execution_count": 143,
   "metadata": {},
   "outputs": [
    {
     "name": "stdout",
     "output_type": "stream",
     "text": [
      "[1 1 1 0 0 0 0 1 1 0 0 0 0 0 0 0 1 0 1 0 1 1 0 1 1 0 1 0 0 0 1 1 0 0 0 1 0\n",
      " 0 1 0 0 1 0 1 1 0 0 0 0 0 0 0 1 1 0 0 0 1 0 0 1 1 1]\n",
      "[1 0 0 1 0 0 0 0 1 0 1 0 0 0 0 1 0 0 1 0 1 0 0 1 1 0 1 0 0 0 0 1 0 1 1 0 0\n",
      " 0 0 0 1 1 0 0 1 0 0 0 0 0 0 0 1 1 1 0 0 0 0 0 1 1 1]\n"
     ]
    }
   ],
   "source": [
    "y_pred = clf_gini.predict(X_test)\n",
    "print(y_pred)\n",
    "y_pred_en = clf_entropy.predict(X_test)\n",
    "print(y_pred_en)\n"
   ]
  },
  {
   "cell_type": "code",
   "execution_count": 144,
   "metadata": {},
   "outputs": [
    {
     "name": "stdout",
     "output_type": "stream",
     "text": [
      "GINI Index \n",
      "Train accuracy: 0.910344827586\n",
      "Test accuracy: 0.68253968254\n",
      "\n",
      "Entropy \n",
      "Train accuracy: 0.889655172414\n",
      "Test accuracy: 0.761904761905\n"
     ]
    }
   ],
   "source": [
    "y_pred = clf_gini.predict(X_test)\n",
    "y_pred1 = clf_gini.predict(X_train)\n",
    "y_pred_en = clf_entropy.predict(X_test)\n",
    "y_pred_en1 = clf_entropy.predict(X_train)\n",
    "print(\"GINI Index \\nTrain accuracy:\",accuracy_score(y_train,y_pred1))\n",
    "print(\"Test accuracy:\", accuracy_score(y_test,y_pred))\n",
    "print(\"\\nEntropy \\nTrain accuracy:\", accuracy_score(y_train,y_pred_en1))\n",
    "print(\"Test accuracy:\", accuracy_score(y_test,y_pred_en))\n"
   ]
  },
  {
   "cell_type": "code",
   "execution_count": null,
   "metadata": {
    "collapsed": true
   },
   "outputs": [],
   "source": []
  }
 ],
 "metadata": {
  "kernelspec": {
   "display_name": "Python 3",
   "language": "python",
   "name": "python3"
  },
  "language_info": {
   "codemirror_mode": {
    "name": "ipython",
    "version": 3
   },
   "file_extension": ".py",
   "mimetype": "text/x-python",
   "name": "python",
   "nbconvert_exporter": "python",
   "pygments_lexer": "ipython3",
   "version": "3.6.3"
  }
 },
 "nbformat": 4,
 "nbformat_minor": 2
}
